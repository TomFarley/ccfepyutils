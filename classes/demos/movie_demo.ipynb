{
 "cells": [
  {
   "cell_type": "markdown",
   "metadata": {},
   "source": [
    "# Movie class demo\n",
    "The demo walks you through the key features of the ccfepyutils movie class.\n",
    "\n",
    "Before running this make sure you have ccfepyutils installed/in your python path.  \n",
    "You will also need approprate movie settings files in your local directory \"~/.ccfepytools/settings/\". (Template versions of these files should be coppied there automatically when you first import ccfepyutils.)\n",
    "\n",
    "## Getting started\n",
    "First we import the class."
   ]
  },
  {
   "cell_type": "code",
   "execution_count": 1,
   "metadata": {},
   "outputs": [],
   "source": [
    "from ccfepyutils.classes.movie import Movie\n",
    "\n",
    "# Supress logging messages\n",
    "import ccfepyutils\n",
    "import logging\n",
    "ccfepyutils.classes.movie.logger.setLevel(logging.CRITICAL)\n",
    "ccfepyutils.classes.settings.logger.setLevel(logging.CRITICAL)\n",
    "ccfepyutils.classes.data_stack.logger.setLevel(logging.WARNING)\n",
    "ccfepyutils.classes.plot.logger.setLevel(logging.WARNING)\n",
    "# Suppress warnings\n",
    "import warnings\n",
    "warnings.filterwarnings('ignore')"
   ]
  },
  {
   "cell_type": "markdown",
   "metadata": {},
   "source": [
    "Now we can instanciate the class by setting the movie file we want to read. We can name this movie instance 'Movie_demo' so we can keep track of what movies we are working with. This will load meta data, but not frame data.  \n",
    "*NOTE: There must be a `Movie_data_locations` settings file in place in order to correctly locate the movie data for this machine and camera.*\n",
    "\n",
    "<small>(We could also specify frame ranges and enhancements etc. here, but we'll keep things simple and do it in steps)"
   ]
  },
  {
   "cell_type": "code",
   "execution_count": 2,
   "metadata": {},
   "outputs": [
    {
     "data": {
      "text/plain": [
       "<Movie \"Movie_demo\" 2x(160, 256), enhanced=False>"
      ]
     },
     "execution_count": 2,
     "metadata": {},
     "output_type": "execute_result"
    }
   ],
   "source": [
    "pulse = 29852\n",
    "machine = 'MAST'\n",
    "camera = 'SA1.1'\n",
    "\n",
    "movie = Movie(pulse, machine, camera, name='Movie_demo');\n",
    "movie"
   ]
  },
  {
   "cell_type": "markdown",
   "metadata": {},
   "source": [
    "## Accessing meta data\n",
    "Now we can look at the structure of the mraw file"
   ]
  },
  {
   "cell_type": "code",
   "execution_count": 3,
   "metadata": {},
   "outputs": [
    {
     "data": {
      "text/html": [
       "<div>\n",
       "<style scoped>\n",
       "    .dataframe tbody tr th:only-of-type {\n",
       "        vertical-align: middle;\n",
       "    }\n",
       "\n",
       "    .dataframe tbody tr th {\n",
       "        vertical-align: top;\n",
       "    }\n",
       "\n",
       "    .dataframe thead th {\n",
       "        text-align: right;\n",
       "    }\n",
       "</style>\n",
       "<table border=\"1\" class=\"dataframe\">\n",
       "  <thead>\n",
       "    <tr style=\"text-align: right;\">\n",
       "      <th></th>\n",
       "      <th>StartFrame</th>\n",
       "      <th>EndFrame</th>\n",
       "      <th>TotalFrame</th>\n",
       "      <th>StartTime</th>\n",
       "      <th>EndTime</th>\n",
       "      <th>TotalTime</th>\n",
       "    </tr>\n",
       "  </thead>\n",
       "  <tbody>\n",
       "    <tr>\n",
       "      <th>0</th>\n",
       "      <td>0</td>\n",
       "      <td>4999</td>\n",
       "      <td>5000</td>\n",
       "      <td>0.10001</td>\n",
       "      <td>0.15001</td>\n",
       "      <td>0.05000</td>\n",
       "    </tr>\n",
       "    <tr>\n",
       "      <th>1</th>\n",
       "      <td>5000</td>\n",
       "      <td>9999</td>\n",
       "      <td>5000</td>\n",
       "      <td>0.15001</td>\n",
       "      <td>0.20001</td>\n",
       "      <td>0.05000</td>\n",
       "    </tr>\n",
       "    <tr>\n",
       "      <th>2</th>\n",
       "      <td>10000</td>\n",
       "      <td>14999</td>\n",
       "      <td>5000</td>\n",
       "      <td>0.20001</td>\n",
       "      <td>0.25001</td>\n",
       "      <td>0.05000</td>\n",
       "    </tr>\n",
       "    <tr>\n",
       "      <th>3</th>\n",
       "      <td>15000</td>\n",
       "      <td>19999</td>\n",
       "      <td>5000</td>\n",
       "      <td>0.25001</td>\n",
       "      <td>0.30001</td>\n",
       "      <td>0.05000</td>\n",
       "    </tr>\n",
       "    <tr>\n",
       "      <th>4</th>\n",
       "      <td>20000</td>\n",
       "      <td>24999</td>\n",
       "      <td>5000</td>\n",
       "      <td>0.30001</td>\n",
       "      <td>0.35001</td>\n",
       "      <td>0.05000</td>\n",
       "    </tr>\n",
       "    <tr>\n",
       "      <th>5</th>\n",
       "      <td>25000</td>\n",
       "      <td>27000</td>\n",
       "      <td>2001</td>\n",
       "      <td>0.35001</td>\n",
       "      <td>0.37003</td>\n",
       "      <td>0.02002</td>\n",
       "    </tr>\n",
       "  </tbody>\n",
       "</table>\n",
       "</div>"
      ],
      "text/plain": [
       "   StartFrame  EndFrame  TotalFrame  StartTime  EndTime  TotalTime\n",
       "0           0      4999        5000    0.10001  0.15001    0.05000\n",
       "1        5000      9999        5000    0.15001  0.20001    0.05000\n",
       "2       10000     14999        5000    0.20001  0.25001    0.05000\n",
       "3       15000     19999        5000    0.25001  0.30001    0.05000\n",
       "4       20000     24999        5000    0.30001  0.35001    0.05000\n",
       "5       25000     27000        2001    0.35001  0.37003    0.02002"
      ]
     },
     "execution_count": 3,
     "metadata": {},
     "output_type": "execute_result"
    }
   ],
   "source": [
    "movie._movie_meta['mraw_files']"
   ]
  },
  {
   "cell_type": "markdown",
   "metadata": {},
   "source": [
    "If you look at the frame meta data you'll notice the frame range has been set acording to previously set mvoie_range settings but the frame data has not been loaded - the 'set' column below is all False"
   ]
  },
  {
   "cell_type": "code",
   "execution_count": 4,
   "metadata": {},
   "outputs": [
    {
     "data": {
      "text/html": [
       "<div>\n",
       "<style scoped>\n",
       "    .dataframe tbody tr th:only-of-type {\n",
       "        vertical-align: middle;\n",
       "    }\n",
       "\n",
       "    .dataframe tbody tr th {\n",
       "        vertical-align: top;\n",
       "    }\n",
       "\n",
       "    .dataframe thead th {\n",
       "        text-align: right;\n",
       "    }\n",
       "</style>\n",
       "<table border=\"1\" class=\"dataframe\">\n",
       "  <thead>\n",
       "    <tr style=\"text-align: right;\">\n",
       "      <th></th>\n",
       "      <th>i</th>\n",
       "      <th>n</th>\n",
       "      <th>set</th>\n",
       "      <th>t</th>\n",
       "      <th>enhanced</th>\n",
       "    </tr>\n",
       "    <tr>\n",
       "      <th>n</th>\n",
       "      <th></th>\n",
       "      <th></th>\n",
       "      <th></th>\n",
       "      <th></th>\n",
       "      <th></th>\n",
       "    </tr>\n",
       "  </thead>\n",
       "  <tbody>\n",
       "    <tr>\n",
       "      <th>0</th>\n",
       "      <td>0</td>\n",
       "      <td>0</td>\n",
       "      <td>False</td>\n",
       "      <td>0.10001</td>\n",
       "      <td>False</td>\n",
       "    </tr>\n",
       "    <tr>\n",
       "      <th>1</th>\n",
       "      <td>1</td>\n",
       "      <td>1</td>\n",
       "      <td>False</td>\n",
       "      <td>0.10002</td>\n",
       "      <td>False</td>\n",
       "    </tr>\n",
       "  </tbody>\n",
       "</table>\n",
       "</div>"
      ],
      "text/plain": [
       "   i  n    set        t  enhanced\n",
       "n                                \n",
       "0  0  0  False  0.10001     False\n",
       "1  1  1  False  0.10002     False"
      ]
     },
     "execution_count": 4,
     "metadata": {},
     "output_type": "execute_result"
    }
   ],
   "source": [
    "movie._meta"
   ]
  },
  {
   "cell_type": "markdown",
   "metadata": {},
   "source": [
    "All movie settings always have a value, so if you do not set them, they will assume default values/the values used previously"
   ]
  },
  {
   "cell_type": "code",
   "execution_count": 5,
   "metadata": {},
   "outputs": [
    {
     "data": {
      "text/html": [
       "<div>\n",
       "<style scoped>\n",
       "    .dataframe tbody tr th:only-of-type {\n",
       "        vertical-align: middle;\n",
       "    }\n",
       "\n",
       "    .dataframe tbody tr th {\n",
       "        vertical-align: top;\n",
       "    }\n",
       "\n",
       "    .dataframe thead th {\n",
       "        text-align: right;\n",
       "    }\n",
       "</style>\n",
       "<table border=\"1\" class=\"dataframe\">\n",
       "  <thead>\n",
       "    <tr style=\"text-align: right;\">\n",
       "      <th></th>\n",
       "      <th>value</th>\n",
       "      <th>description</th>\n",
       "      <th>setting</th>\n",
       "    </tr>\n",
       "    <tr>\n",
       "      <th>index</th>\n",
       "      <th></th>\n",
       "      <th></th>\n",
       "      <th></th>\n",
       "    </tr>\n",
       "  </thead>\n",
       "  <tbody>\n",
       "    <tr>\n",
       "      <th>Movie_source</th>\n",
       "      <td>synthcam_demo</td>\n",
       "      <td>Settings detailing origin of movie data</td>\n",
       "      <td>True</td>\n",
       "    </tr>\n",
       "    <tr>\n",
       "      <th>machine</th>\n",
       "      <td>MAST</td>\n",
       "      <td>Machine/Tokamak</td>\n",
       "      <td>False</td>\n",
       "    </tr>\n",
       "    <tr>\n",
       "      <th>camera</th>\n",
       "      <td>SA1.1</td>\n",
       "      <td>Camera used to produce movie</td>\n",
       "      <td>False</td>\n",
       "    </tr>\n",
       "    <tr>\n",
       "      <th>pulse</th>\n",
       "      <td>29852</td>\n",
       "      <td>Pulse number/Synthetic dataset</td>\n",
       "      <td>False</td>\n",
       "    </tr>\n",
       "    <tr>\n",
       "      <th>Enhancer_settings</th>\n",
       "      <td>default</td>\n",
       "      <td>nan</td>\n",
       "      <td>True</td>\n",
       "    </tr>\n",
       "    <tr>\n",
       "      <th>enhancements:0</th>\n",
       "      <td>extract_fg</td>\n",
       "      <td>nan</td>\n",
       "      <td>False</td>\n",
       "    </tr>\n",
       "    <tr>\n",
       "      <th>enhancements:1</th>\n",
       "      <td>reduce_noise</td>\n",
       "      <td>nan</td>\n",
       "      <td>False</td>\n",
       "    </tr>\n",
       "    <tr>\n",
       "      <th>enhancements:2</th>\n",
       "      <td>sharpen</td>\n",
       "      <td>nan</td>\n",
       "      <td>False</td>\n",
       "    </tr>\n",
       "    <tr>\n",
       "      <th>Movie_range</th>\n",
       "      <td>repeat</td>\n",
       "      <td>Settings detailing range of frames to be loaded</td>\n",
       "      <td>True</td>\n",
       "    </tr>\n",
       "    <tr>\n",
       "      <th>start_frame</th>\n",
       "      <td>0</td>\n",
       "      <td>Start of frame number range for movie to load</td>\n",
       "      <td>False</td>\n",
       "    </tr>\n",
       "    <tr>\n",
       "      <th>end_frame</th>\n",
       "      <td>1</td>\n",
       "      <td>End of frame number range for movie to load</td>\n",
       "      <td>False</td>\n",
       "    </tr>\n",
       "    <tr>\n",
       "      <th>stride</th>\n",
       "      <td>1.0</td>\n",
       "      <td>Difference between consecutive frame number to be loaded</td>\n",
       "      <td>False</td>\n",
       "    </tr>\n",
       "  </tbody>\n",
       "</table>\n",
       "</div>"
      ],
      "text/plain": [
       "                           value                                               description  setting\n",
       "index                                                                                              \n",
       "Movie_source       synthcam_demo                   Settings detailing origin of movie data     True\n",
       "machine                     MAST                                           Machine/Tokamak    False\n",
       "camera                     SA1.1                              Camera used to produce movie    False\n",
       "pulse                      29852                            Pulse number/Synthetic dataset    False\n",
       "Enhancer_settings        default                                                       nan     True\n",
       "enhancements:0        extract_fg                                                       nan    False\n",
       "enhancements:1      reduce_noise                                                       nan    False\n",
       "enhancements:2           sharpen                                                       nan    False\n",
       "Movie_range               repeat           Settings detailing range of frames to be loaded     True\n",
       "start_frame                    0             Start of frame number range for movie to load    False\n",
       "end_frame                      1               End of frame number range for movie to load    False\n",
       "stride                       1.0  Difference between consecutive frame number to be loaded    False"
      ]
     },
     "execution_count": 5,
     "metadata": {},
     "output_type": "execute_result"
    }
   ],
   "source": [
    "movie.settings.view()"
   ]
  },
  {
   "cell_type": "markdown",
   "metadata": {},
   "source": [
    "## Setting the frame range\n",
    "Now lets set the frame range we want to work with we want to work with and allocate the memory for that many frames. Note this is modifying the values of the Movie_range settings file."
   ]
  },
  {
   "cell_type": "code",
   "execution_count": 21,
   "metadata": {},
   "outputs": [
    {
     "data": {
      "text/plain": [
       "<Movie \"Movie_demo\" 13x(160, 256), enhanced=True>"
      ]
     },
     "execution_count": 21,
     "metadata": {},
     "output_type": "execute_result"
    }
   ],
   "source": [
    "start_frame = 13\n",
    "end_frame = 25\n",
    "movie.set_frames(start_frame=start_frame, end_frame=end_frame)\n",
    "movie"
   ]
  },
  {
   "cell_type": "markdown",
   "metadata": {},
   "source": [
    "Now the frame meta data has been updated acordingly, and again no frames are set (no frame data has been loaded)."
   ]
  },
  {
   "cell_type": "code",
   "execution_count": 7,
   "metadata": {},
   "outputs": [
    {
     "data": {
      "text/html": [
       "<div>\n",
       "<style scoped>\n",
       "    .dataframe tbody tr th:only-of-type {\n",
       "        vertical-align: middle;\n",
       "    }\n",
       "\n",
       "    .dataframe tbody tr th {\n",
       "        vertical-align: top;\n",
       "    }\n",
       "\n",
       "    .dataframe thead th {\n",
       "        text-align: right;\n",
       "    }\n",
       "</style>\n",
       "<table border=\"1\" class=\"dataframe\">\n",
       "  <thead>\n",
       "    <tr style=\"text-align: right;\">\n",
       "      <th></th>\n",
       "      <th>i</th>\n",
       "      <th>n</th>\n",
       "      <th>set</th>\n",
       "      <th>t</th>\n",
       "      <th>enhanced</th>\n",
       "    </tr>\n",
       "    <tr>\n",
       "      <th>n</th>\n",
       "      <th></th>\n",
       "      <th></th>\n",
       "      <th></th>\n",
       "      <th></th>\n",
       "      <th></th>\n",
       "    </tr>\n",
       "  </thead>\n",
       "  <tbody>\n",
       "    <tr>\n",
       "      <th>13</th>\n",
       "      <td>0</td>\n",
       "      <td>13</td>\n",
       "      <td>False</td>\n",
       "      <td>0.10014</td>\n",
       "      <td>False</td>\n",
       "    </tr>\n",
       "    <tr>\n",
       "      <th>14</th>\n",
       "      <td>1</td>\n",
       "      <td>14</td>\n",
       "      <td>False</td>\n",
       "      <td>0.10015</td>\n",
       "      <td>False</td>\n",
       "    </tr>\n",
       "    <tr>\n",
       "      <th>15</th>\n",
       "      <td>2</td>\n",
       "      <td>15</td>\n",
       "      <td>False</td>\n",
       "      <td>0.10016</td>\n",
       "      <td>False</td>\n",
       "    </tr>\n",
       "    <tr>\n",
       "      <th>16</th>\n",
       "      <td>3</td>\n",
       "      <td>16</td>\n",
       "      <td>False</td>\n",
       "      <td>0.10017</td>\n",
       "      <td>False</td>\n",
       "    </tr>\n",
       "    <tr>\n",
       "      <th>17</th>\n",
       "      <td>4</td>\n",
       "      <td>17</td>\n",
       "      <td>False</td>\n",
       "      <td>0.10018</td>\n",
       "      <td>False</td>\n",
       "    </tr>\n",
       "    <tr>\n",
       "      <th>18</th>\n",
       "      <td>5</td>\n",
       "      <td>18</td>\n",
       "      <td>False</td>\n",
       "      <td>0.10019</td>\n",
       "      <td>False</td>\n",
       "    </tr>\n",
       "    <tr>\n",
       "      <th>19</th>\n",
       "      <td>6</td>\n",
       "      <td>19</td>\n",
       "      <td>False</td>\n",
       "      <td>0.10020</td>\n",
       "      <td>False</td>\n",
       "    </tr>\n",
       "    <tr>\n",
       "      <th>20</th>\n",
       "      <td>7</td>\n",
       "      <td>20</td>\n",
       "      <td>False</td>\n",
       "      <td>0.10021</td>\n",
       "      <td>False</td>\n",
       "    </tr>\n",
       "    <tr>\n",
       "      <th>21</th>\n",
       "      <td>8</td>\n",
       "      <td>21</td>\n",
       "      <td>False</td>\n",
       "      <td>0.10022</td>\n",
       "      <td>False</td>\n",
       "    </tr>\n",
       "    <tr>\n",
       "      <th>22</th>\n",
       "      <td>9</td>\n",
       "      <td>22</td>\n",
       "      <td>False</td>\n",
       "      <td>0.10023</td>\n",
       "      <td>False</td>\n",
       "    </tr>\n",
       "    <tr>\n",
       "      <th>23</th>\n",
       "      <td>10</td>\n",
       "      <td>23</td>\n",
       "      <td>False</td>\n",
       "      <td>0.10024</td>\n",
       "      <td>False</td>\n",
       "    </tr>\n",
       "    <tr>\n",
       "      <th>24</th>\n",
       "      <td>11</td>\n",
       "      <td>24</td>\n",
       "      <td>False</td>\n",
       "      <td>0.10025</td>\n",
       "      <td>False</td>\n",
       "    </tr>\n",
       "    <tr>\n",
       "      <th>25</th>\n",
       "      <td>12</td>\n",
       "      <td>25</td>\n",
       "      <td>False</td>\n",
       "      <td>0.10026</td>\n",
       "      <td>False</td>\n",
       "    </tr>\n",
       "  </tbody>\n",
       "</table>\n",
       "</div>"
      ],
      "text/plain": [
       "     i   n    set        t  enhanced\n",
       "n                                   \n",
       "13   0  13  False  0.10014     False\n",
       "14   1  14  False  0.10015     False\n",
       "15   2  15  False  0.10016     False\n",
       "16   3  16  False  0.10017     False\n",
       "17   4  17  False  0.10018     False\n",
       "18   5  18  False  0.10019     False\n",
       "19   6  19  False  0.10020     False\n",
       "20   7  20  False  0.10021     False\n",
       "21   8  21  False  0.10022     False\n",
       "22   9  22  False  0.10023     False\n",
       "23  10  23  False  0.10024     False\n",
       "24  11  24  False  0.10025     False\n",
       "25  12  25  False  0.10026     False"
      ]
     },
     "execution_count": 7,
     "metadata": {},
     "output_type": "execute_result"
    }
   ],
   "source": [
    "movie._meta"
   ]
  },
  {
   "cell_type": "markdown",
   "metadata": {},
   "source": [
    "## Accessing frame data\n",
    "Now lets get a frame object for frame 16. The `repr` tells us what movie the frame is from, the image resolution and the frame number and frame time."
   ]
  },
  {
   "cell_type": "code",
   "execution_count": 8,
   "metadata": {},
   "outputs": [
    {
     "data": {
      "text/plain": [
       "<Frame(\"Movie_demo\") (160, 256)[n=16, t=0.10017s]>"
      ]
     },
     "execution_count": 8,
     "metadata": {},
     "output_type": "execute_result"
    }
   ],
   "source": [
    "frame16 = movie(n=16)\n",
    "frame16"
   ]
  },
  {
   "cell_type": "markdown",
   "metadata": {},
   "source": [
    "Now if we access the frames data the frame data will be read from disk on the fly and we will get an xarray dataset. This is a view of the dataset containing the whole movie."
   ]
  },
  {
   "cell_type": "code",
   "execution_count": 9,
   "metadata": {},
   "outputs": [
    {
     "data": {
      "text/plain": [
       "<xarray.DataArray 'pix_intensity' (x_pix: 160, y_pix: 256)>\n",
       "array([[ 524.,  456.,  516., ...,   80.,   28.,   12.],\n",
       "       [ 456.,  544.,  528., ...,   56.,    0.,    0.],\n",
       "       [ 464.,  464.,  560., ...,   96.,   24.,   40.],\n",
       "       ..., \n",
       "       [ 116.,   96.,   92., ...,    8.,    4.,    8.],\n",
       "       [  44.,   80.,   88., ...,    0.,   48.,    0.],\n",
       "       [  72.,   80.,   24., ...,    8.,   64.,    4.]])\n",
       "Coordinates:\n",
       "    n        int64 16\n",
       "  * x_pix    (x_pix) int64 0 1 2 3 4 5 6 7 8 9 10 11 12 13 14 15 16 17 18 19 ...\n",
       "  * y_pix    (y_pix) int64 0 1 2 3 4 5 6 7 8 9 10 11 12 13 14 15 16 17 18 19 ..."
      ]
     },
     "execution_count": 9,
     "metadata": {},
     "output_type": "execute_result"
    }
   ],
   "source": [
    "frame16.data"
   ]
  },
  {
   "cell_type": "markdown",
   "metadata": {},
   "source": [
    "Or if you want the underlying numpy ndarray just access the dataset's values"
   ]
  },
  {
   "cell_type": "code",
   "execution_count": 10,
   "metadata": {},
   "outputs": [
    {
     "data": {
      "text/plain": [
       "array([[ 524.,  456.,  516., ...,   80.,   28.,   12.],\n",
       "       [ 456.,  544.,  528., ...,   56.,    0.,    0.],\n",
       "       [ 464.,  464.,  560., ...,   96.,   24.,   40.],\n",
       "       ..., \n",
       "       [ 116.,   96.,   92., ...,    8.,    4.,    8.],\n",
       "       [  44.,   80.,   88., ...,    0.,   48.,    0.],\n",
       "       [  72.,   80.,   24., ...,    8.,   64.,    4.]])"
      ]
     },
     "execution_count": 10,
     "metadata": {},
     "output_type": "execute_result"
    }
   ],
   "source": [
    "frame16.data.values"
   ]
  },
  {
   "cell_type": "markdown",
   "metadata": {},
   "source": [
    "Now we can see the data for frame16 has been 'set'"
   ]
  },
  {
   "cell_type": "code",
   "execution_count": 11,
   "metadata": {},
   "outputs": [
    {
     "data": {
      "text/html": [
       "<div>\n",
       "<style scoped>\n",
       "    .dataframe tbody tr th:only-of-type {\n",
       "        vertical-align: middle;\n",
       "    }\n",
       "\n",
       "    .dataframe tbody tr th {\n",
       "        vertical-align: top;\n",
       "    }\n",
       "\n",
       "    .dataframe thead th {\n",
       "        text-align: right;\n",
       "    }\n",
       "</style>\n",
       "<table border=\"1\" class=\"dataframe\">\n",
       "  <thead>\n",
       "    <tr style=\"text-align: right;\">\n",
       "      <th></th>\n",
       "      <th>i</th>\n",
       "      <th>n</th>\n",
       "      <th>set</th>\n",
       "      <th>t</th>\n",
       "      <th>enhanced</th>\n",
       "    </tr>\n",
       "    <tr>\n",
       "      <th>n</th>\n",
       "      <th></th>\n",
       "      <th></th>\n",
       "      <th></th>\n",
       "      <th></th>\n",
       "      <th></th>\n",
       "    </tr>\n",
       "  </thead>\n",
       "  <tbody>\n",
       "    <tr>\n",
       "      <th>13</th>\n",
       "      <td>0</td>\n",
       "      <td>13</td>\n",
       "      <td>False</td>\n",
       "      <td>0.10014</td>\n",
       "      <td>False</td>\n",
       "    </tr>\n",
       "    <tr>\n",
       "      <th>14</th>\n",
       "      <td>1</td>\n",
       "      <td>14</td>\n",
       "      <td>False</td>\n",
       "      <td>0.10015</td>\n",
       "      <td>False</td>\n",
       "    </tr>\n",
       "    <tr>\n",
       "      <th>15</th>\n",
       "      <td>2</td>\n",
       "      <td>15</td>\n",
       "      <td>False</td>\n",
       "      <td>0.10016</td>\n",
       "      <td>False</td>\n",
       "    </tr>\n",
       "    <tr>\n",
       "      <th>16</th>\n",
       "      <td>3</td>\n",
       "      <td>16</td>\n",
       "      <td>True</td>\n",
       "      <td>0.10017</td>\n",
       "      <td>False</td>\n",
       "    </tr>\n",
       "    <tr>\n",
       "      <th>17</th>\n",
       "      <td>4</td>\n",
       "      <td>17</td>\n",
       "      <td>False</td>\n",
       "      <td>0.10018</td>\n",
       "      <td>False</td>\n",
       "    </tr>\n",
       "    <tr>\n",
       "      <th>18</th>\n",
       "      <td>5</td>\n",
       "      <td>18</td>\n",
       "      <td>False</td>\n",
       "      <td>0.10019</td>\n",
       "      <td>False</td>\n",
       "    </tr>\n",
       "    <tr>\n",
       "      <th>19</th>\n",
       "      <td>6</td>\n",
       "      <td>19</td>\n",
       "      <td>False</td>\n",
       "      <td>0.10020</td>\n",
       "      <td>False</td>\n",
       "    </tr>\n",
       "    <tr>\n",
       "      <th>20</th>\n",
       "      <td>7</td>\n",
       "      <td>20</td>\n",
       "      <td>False</td>\n",
       "      <td>0.10021</td>\n",
       "      <td>False</td>\n",
       "    </tr>\n",
       "    <tr>\n",
       "      <th>21</th>\n",
       "      <td>8</td>\n",
       "      <td>21</td>\n",
       "      <td>False</td>\n",
       "      <td>0.10022</td>\n",
       "      <td>False</td>\n",
       "    </tr>\n",
       "    <tr>\n",
       "      <th>22</th>\n",
       "      <td>9</td>\n",
       "      <td>22</td>\n",
       "      <td>False</td>\n",
       "      <td>0.10023</td>\n",
       "      <td>False</td>\n",
       "    </tr>\n",
       "    <tr>\n",
       "      <th>23</th>\n",
       "      <td>10</td>\n",
       "      <td>23</td>\n",
       "      <td>False</td>\n",
       "      <td>0.10024</td>\n",
       "      <td>False</td>\n",
       "    </tr>\n",
       "    <tr>\n",
       "      <th>24</th>\n",
       "      <td>11</td>\n",
       "      <td>24</td>\n",
       "      <td>False</td>\n",
       "      <td>0.10025</td>\n",
       "      <td>False</td>\n",
       "    </tr>\n",
       "    <tr>\n",
       "      <th>25</th>\n",
       "      <td>12</td>\n",
       "      <td>25</td>\n",
       "      <td>False</td>\n",
       "      <td>0.10026</td>\n",
       "      <td>False</td>\n",
       "    </tr>\n",
       "  </tbody>\n",
       "</table>\n",
       "</div>"
      ],
      "text/plain": [
       "     i   n    set        t  enhanced\n",
       "n                                   \n",
       "13   0  13  False  0.10014     False\n",
       "14   1  14  False  0.10015     False\n",
       "15   2  15  False  0.10016     False\n",
       "16   3  16   True  0.10017     False\n",
       "17   4  17  False  0.10018     False\n",
       "18   5  18  False  0.10019     False\n",
       "19   6  19  False  0.10020     False\n",
       "20   7  20  False  0.10021     False\n",
       "21   8  21  False  0.10022     False\n",
       "22   9  22  False  0.10023     False\n",
       "23  10  23  False  0.10024     False\n",
       "24  11  24  False  0.10025     False\n",
       "25  12  25  False  0.10026     False"
      ]
     },
     "execution_count": 11,
     "metadata": {},
     "output_type": "execute_result"
    }
   ],
   "source": [
    "movie._meta"
   ]
  },
  {
   "cell_type": "markdown",
   "metadata": {},
   "source": [
    "If we want to load all the frames into memory we can call `movie.load_movie_data()` or load a subset of the frames using `movie.load_movie_data(n=my_list_of_frames)`."
   ]
  },
  {
   "cell_type": "markdown",
   "metadata": {},
   "source": [
    "## Plotting frames\n",
    "Now lets plot the 11th frame in the movie (ie frame24 with i=11, n=24)"
   ]
  },
  {
   "cell_type": "code",
   "execution_count": 12,
   "metadata": {},
   "outputs": [
    {
     "data": {
      "text/plain": [
       "<Plot(1, 1);0:\"image\">"
      ]
     },
     "execution_count": 12,
     "metadata": {},
     "output_type": "execute_result"
    },
    {
     "data": {
      "image/png": "[encoded data removed]",
      "text/plain": [
       "<matplotlib.figure.Figure at 0x7fd43c80cb38>"
      ]
     },
     "metadata": {},
     "output_type": "display_data"
    }
   ],
   "source": [
    "frame24 = movie(i=11)\n",
    "frame24.plot()"
   ]
  },
  {
   "cell_type": "markdown",
   "metadata": {},
   "source": [
    "# Enhancing frames\n",
    "Now lets enhance this frame by extracting the forground, then applying a gaussian but, then a sharpenning opperation and plot it"
   ]
  },
  {
   "cell_type": "code",
   "execution_count": 13,
   "metadata": {},
   "outputs": [],
   "source": [
    "movie.enhance(['extract_fg', 'reduce_noise', 'sharpen'], frames=[24], keep_raw=True)"
   ]
  },
  {
   "cell_type": "markdown",
   "metadata": {},
   "source": [
    "Now we can see in the frame meta data that frame 24 has been enhanced "
   ]
  },
  {
   "cell_type": "code",
   "execution_count": 14,
   "metadata": {},
   "outputs": [
    {
     "data": {
      "text/html": [
       "<div>\n",
       "<style scoped>\n",
       "    .dataframe tbody tr th:only-of-type {\n",
       "        vertical-align: middle;\n",
       "    }\n",
       "\n",
       "    .dataframe tbody tr th {\n",
       "        vertical-align: top;\n",
       "    }\n",
       "\n",
       "    .dataframe thead th {\n",
       "        text-align: right;\n",
       "    }\n",
       "</style>\n",
       "<table border=\"1\" class=\"dataframe\">\n",
       "  <thead>\n",
       "    <tr style=\"text-align: right;\">\n",
       "      <th></th>\n",
       "      <th>i</th>\n",
       "      <th>n</th>\n",
       "      <th>set</th>\n",
       "      <th>t</th>\n",
       "      <th>enhanced</th>\n",
       "    </tr>\n",
       "    <tr>\n",
       "      <th>n</th>\n",
       "      <th></th>\n",
       "      <th></th>\n",
       "      <th></th>\n",
       "      <th></th>\n",
       "      <th></th>\n",
       "    </tr>\n",
       "  </thead>\n",
       "  <tbody>\n",
       "    <tr>\n",
       "      <th>13</th>\n",
       "      <td>0</td>\n",
       "      <td>13</td>\n",
       "      <td>False</td>\n",
       "      <td>0.10014</td>\n",
       "      <td>False</td>\n",
       "    </tr>\n",
       "    <tr>\n",
       "      <th>14</th>\n",
       "      <td>1</td>\n",
       "      <td>14</td>\n",
       "      <td>False</td>\n",
       "      <td>0.10015</td>\n",
       "      <td>False</td>\n",
       "    </tr>\n",
       "    <tr>\n",
       "      <th>15</th>\n",
       "      <td>2</td>\n",
       "      <td>15</td>\n",
       "      <td>False</td>\n",
       "      <td>0.10016</td>\n",
       "      <td>False</td>\n",
       "    </tr>\n",
       "    <tr>\n",
       "      <th>16</th>\n",
       "      <td>3</td>\n",
       "      <td>16</td>\n",
       "      <td>True</td>\n",
       "      <td>0.10017</td>\n",
       "      <td>False</td>\n",
       "    </tr>\n",
       "    <tr>\n",
       "      <th>17</th>\n",
       "      <td>4</td>\n",
       "      <td>17</td>\n",
       "      <td>False</td>\n",
       "      <td>0.10018</td>\n",
       "      <td>False</td>\n",
       "    </tr>\n",
       "    <tr>\n",
       "      <th>18</th>\n",
       "      <td>5</td>\n",
       "      <td>18</td>\n",
       "      <td>False</td>\n",
       "      <td>0.10019</td>\n",
       "      <td>False</td>\n",
       "    </tr>\n",
       "    <tr>\n",
       "      <th>19</th>\n",
       "      <td>6</td>\n",
       "      <td>19</td>\n",
       "      <td>False</td>\n",
       "      <td>0.10020</td>\n",
       "      <td>False</td>\n",
       "    </tr>\n",
       "    <tr>\n",
       "      <th>20</th>\n",
       "      <td>7</td>\n",
       "      <td>20</td>\n",
       "      <td>False</td>\n",
       "      <td>0.10021</td>\n",
       "      <td>False</td>\n",
       "    </tr>\n",
       "    <tr>\n",
       "      <th>21</th>\n",
       "      <td>8</td>\n",
       "      <td>21</td>\n",
       "      <td>False</td>\n",
       "      <td>0.10022</td>\n",
       "      <td>False</td>\n",
       "    </tr>\n",
       "    <tr>\n",
       "      <th>22</th>\n",
       "      <td>9</td>\n",
       "      <td>22</td>\n",
       "      <td>False</td>\n",
       "      <td>0.10023</td>\n",
       "      <td>False</td>\n",
       "    </tr>\n",
       "    <tr>\n",
       "      <th>23</th>\n",
       "      <td>10</td>\n",
       "      <td>23</td>\n",
       "      <td>False</td>\n",
       "      <td>0.10024</td>\n",
       "      <td>False</td>\n",
       "    </tr>\n",
       "    <tr>\n",
       "      <th>24</th>\n",
       "      <td>11</td>\n",
       "      <td>24</td>\n",
       "      <td>True</td>\n",
       "      <td>0.10025</td>\n",
       "      <td>True</td>\n",
       "    </tr>\n",
       "    <tr>\n",
       "      <th>25</th>\n",
       "      <td>12</td>\n",
       "      <td>25</td>\n",
       "      <td>False</td>\n",
       "      <td>0.10026</td>\n",
       "      <td>False</td>\n",
       "    </tr>\n",
       "  </tbody>\n",
       "</table>\n",
       "</div>"
      ],
      "text/plain": [
       "     i   n    set        t  enhanced\n",
       "n                                   \n",
       "13   0  13  False  0.10014     False\n",
       "14   1  14  False  0.10015     False\n",
       "15   2  15  False  0.10016     False\n",
       "16   3  16   True  0.10017     False\n",
       "17   4  17  False  0.10018     False\n",
       "18   5  18  False  0.10019     False\n",
       "19   6  19  False  0.10020     False\n",
       "20   7  20  False  0.10021     False\n",
       "21   8  21  False  0.10022     False\n",
       "22   9  22  False  0.10023     False\n",
       "23  10  23  False  0.10024     False\n",
       "24  11  24   True  0.10025      True\n",
       "25  12  25  False  0.10026     False"
      ]
     },
     "execution_count": 14,
     "metadata": {},
     "output_type": "execute_result"
    }
   ],
   "source": [
    "movie._meta"
   ]
  },
  {
   "cell_type": "code",
   "execution_count": 15,
   "metadata": {},
   "outputs": [
    {
     "data": {
      "text/plain": [
       "<Plot(1, 1);0:\"image\">"
      ]
     },
     "execution_count": 15,
     "metadata": {},
     "output_type": "execute_result"
    },
    {
     "data": {
      "image/png": "[encoded data removed]",
      "text/plain": [
       "<matplotlib.figure.Figure at 0x7fd42f4ab9e8>"
      ]
     },
     "metadata": {},
     "output_type": "display_data"
    }
   ],
   "source": [
    "frame24 = movie(i=11)\n",
    "frame24.plot()"
   ]
  },
  {
   "cell_type": "markdown",
   "metadata": {},
   "source": [
    "Now we can load and enhance the rest of the frames"
   ]
  },
  {
   "cell_type": "code",
   "execution_count": 16,
   "metadata": {},
   "outputs": [
    {
     "data": {
      "text/html": [
       "<div>\n",
       "<style scoped>\n",
       "    .dataframe tbody tr th:only-of-type {\n",
       "        vertical-align: middle;\n",
       "    }\n",
       "\n",
       "    .dataframe tbody tr th {\n",
       "        vertical-align: top;\n",
       "    }\n",
       "\n",
       "    .dataframe thead th {\n",
       "        text-align: right;\n",
       "    }\n",
       "</style>\n",
       "<table border=\"1\" class=\"dataframe\">\n",
       "  <thead>\n",
       "    <tr style=\"text-align: right;\">\n",
       "      <th></th>\n",
       "      <th>i</th>\n",
       "      <th>n</th>\n",
       "      <th>set</th>\n",
       "      <th>t</th>\n",
       "      <th>enhanced</th>\n",
       "    </tr>\n",
       "    <tr>\n",
       "      <th>n</th>\n",
       "      <th></th>\n",
       "      <th></th>\n",
       "      <th></th>\n",
       "      <th></th>\n",
       "      <th></th>\n",
       "    </tr>\n",
       "  </thead>\n",
       "  <tbody>\n",
       "    <tr>\n",
       "      <th>13</th>\n",
       "      <td>0</td>\n",
       "      <td>13</td>\n",
       "      <td>True</td>\n",
       "      <td>0.10014</td>\n",
       "      <td>True</td>\n",
       "    </tr>\n",
       "    <tr>\n",
       "      <th>14</th>\n",
       "      <td>1</td>\n",
       "      <td>14</td>\n",
       "      <td>True</td>\n",
       "      <td>0.10015</td>\n",
       "      <td>True</td>\n",
       "    </tr>\n",
       "    <tr>\n",
       "      <th>15</th>\n",
       "      <td>2</td>\n",
       "      <td>15</td>\n",
       "      <td>True</td>\n",
       "      <td>0.10016</td>\n",
       "      <td>True</td>\n",
       "    </tr>\n",
       "    <tr>\n",
       "      <th>16</th>\n",
       "      <td>3</td>\n",
       "      <td>16</td>\n",
       "      <td>True</td>\n",
       "      <td>0.10017</td>\n",
       "      <td>True</td>\n",
       "    </tr>\n",
       "    <tr>\n",
       "      <th>17</th>\n",
       "      <td>4</td>\n",
       "      <td>17</td>\n",
       "      <td>True</td>\n",
       "      <td>0.10018</td>\n",
       "      <td>True</td>\n",
       "    </tr>\n",
       "    <tr>\n",
       "      <th>18</th>\n",
       "      <td>5</td>\n",
       "      <td>18</td>\n",
       "      <td>True</td>\n",
       "      <td>0.10019</td>\n",
       "      <td>True</td>\n",
       "    </tr>\n",
       "    <tr>\n",
       "      <th>19</th>\n",
       "      <td>6</td>\n",
       "      <td>19</td>\n",
       "      <td>True</td>\n",
       "      <td>0.10020</td>\n",
       "      <td>True</td>\n",
       "    </tr>\n",
       "    <tr>\n",
       "      <th>20</th>\n",
       "      <td>7</td>\n",
       "      <td>20</td>\n",
       "      <td>True</td>\n",
       "      <td>0.10021</td>\n",
       "      <td>True</td>\n",
       "    </tr>\n",
       "    <tr>\n",
       "      <th>21</th>\n",
       "      <td>8</td>\n",
       "      <td>21</td>\n",
       "      <td>True</td>\n",
       "      <td>0.10022</td>\n",
       "      <td>True</td>\n",
       "    </tr>\n",
       "    <tr>\n",
       "      <th>22</th>\n",
       "      <td>9</td>\n",
       "      <td>22</td>\n",
       "      <td>True</td>\n",
       "      <td>0.10023</td>\n",
       "      <td>True</td>\n",
       "    </tr>\n",
       "    <tr>\n",
       "      <th>23</th>\n",
       "      <td>10</td>\n",
       "      <td>23</td>\n",
       "      <td>True</td>\n",
       "      <td>0.10024</td>\n",
       "      <td>True</td>\n",
       "    </tr>\n",
       "    <tr>\n",
       "      <th>24</th>\n",
       "      <td>11</td>\n",
       "      <td>24</td>\n",
       "      <td>True</td>\n",
       "      <td>0.10025</td>\n",
       "      <td>True</td>\n",
       "    </tr>\n",
       "    <tr>\n",
       "      <th>25</th>\n",
       "      <td>12</td>\n",
       "      <td>25</td>\n",
       "      <td>True</td>\n",
       "      <td>0.10026</td>\n",
       "      <td>True</td>\n",
       "    </tr>\n",
       "  </tbody>\n",
       "</table>\n",
       "</div>"
      ],
      "text/plain": [
       "     i   n   set        t  enhanced\n",
       "n                                  \n",
       "13   0  13  True  0.10014      True\n",
       "14   1  14  True  0.10015      True\n",
       "15   2  15  True  0.10016      True\n",
       "16   3  16  True  0.10017      True\n",
       "17   4  17  True  0.10018      True\n",
       "18   5  18  True  0.10019      True\n",
       "19   6  19  True  0.10020      True\n",
       "20   7  20  True  0.10021      True\n",
       "21   8  21  True  0.10022      True\n",
       "22   9  22  True  0.10023      True\n",
       "23  10  23  True  0.10024      True\n",
       "24  11  24  True  0.10025      True\n",
       "25  12  25  True  0.10026      True"
      ]
     },
     "execution_count": 16,
     "metadata": {},
     "output_type": "execute_result"
    }
   ],
   "source": [
    "movie.enhance(['extract_fg', 'reduce_noise', 'sharpen'], frames='all', keep_raw=True)\n",
    "movie._meta"
   ]
  },
  {
   "cell_type": "markdown",
   "metadata": {},
   "source": [
    "## Accessing raw data\n",
    "We can still access the raw data because we set `keep_raw` when we applied the enhancements. Note here we are indexing the movie with the frame time."
   ]
  },
  {
   "cell_type": "code",
   "execution_count": 17,
   "metadata": {},
   "outputs": [
    {
     "name": "stdout",
     "output_type": "stream",
     "text": [
      "[[ 440.  476.  556. ...,   64.   20.   24.]\n",
      " [ 452.  496.  544. ...,   44.   40.   28.]\n",
      " [ 472.  524.  504. ...,  124.   36.    8.]\n",
      " ..., \n",
      " [  96.   64.   48. ...,    0.    0.   40.]\n",
      " [  64.   92.   40. ...,    0.    0.    0.]\n",
      " [  88.   96.    8. ...,   12.   24.    4.]]\n",
      "\n",
      "[[ 440.  476.  556. ...,   64.   20.   24.]\n",
      " [ 452.  496.  544. ...,   44.   40.   28.]\n",
      " [ 472.  524.  504. ...,  124.   36.    8.]\n",
      " ..., \n",
      " [  96.   64.   48. ...,    0.    0.   40.]\n",
      " [  64.   92.   40. ...,    0.    0.    0.]\n",
      " [  88.   96.    8. ...,   12.   24.    4.]]\n"
     ]
    },
    {
     "data": {
      "text/plain": [
       "<Plot(1, 1);0:\"image\">"
      ]
     },
     "execution_count": 17,
     "metadata": {},
     "output_type": "execute_result"
    },
    {
     "data": {
      "image/png": "[encoded data removed]",
      "text/plain": [
       "<matplotlib.figure.Figure at 0x7fd42f016550>"
      ]
     },
     "metadata": {},
     "output_type": "display_data"
    },
    {
     "data": {
      "image/png": "[encoded data removed]",
      "text/plain": [
       "<matplotlib.figure.Figure at 0x7fd42d3b3c18>"
      ]
     },
     "metadata": {},
     "output_type": "display_data"
    }
   ],
   "source": [
    "print(movie(t=0.10015, raw=True).data.values)  \n",
    "print() # Or you can get the raw data from the frame object:\n",
    "print(movie(t=0.10015).raw.data.values)\n",
    "movie(t=0.10015, raw=True).plot()\n",
    "movie(t=0.10015).plot()"
   ]
  },
  {
   "cell_type": "markdown",
   "metadata": {},
   "source": [
    "## Accessing data for the whole movie\n",
    "The full 3D data set can be accessed through `.data`. As usual `movie.data.values` will give you the numpy array."
   ]
  },
  {
   "cell_type": "code",
   "execution_count": 18,
   "metadata": {},
   "outputs": [
    {
     "data": {
      "text/plain": [
       "<xarray.DataArray 'pix_intensity' (n: 13, x_pix: 160, y_pix: 256)>\n",
       "array([[[  0.,   0., ...,   0.,   0.],\n",
       "        [  0.,   0., ...,   0.,   0.],\n",
       "        ..., \n",
       "        [  0.,   0., ...,   0.,   0.],\n",
       "        [  0.,   0., ...,   0.,   0.]],\n",
       "\n",
       "       [[ 12.,   0., ...,   0.,  12.],\n",
       "        [  0.,   0., ...,  32.,   8.],\n",
       "        ..., \n",
       "        [ 36.,  28., ...,   0.,   0.],\n",
       "        [ 12.,  16., ...,   0.,   0.]],\n",
       "\n",
       "       ..., \n",
       "       [[ 32.,  36., ...,  24.,  40.],\n",
       "        [ 12.,   8., ...,   8.,   8.],\n",
       "        ..., \n",
       "        [  0.,   0., ...,   4.,   0.],\n",
       "        [ 36.,  32., ...,  48.,  24.]],\n",
       "\n",
       "       [[ 44.,  12., ...,   8.,  20.],\n",
       "        [  0.,   0., ...,  24.,  44.],\n",
       "        ..., \n",
       "        [  0.,  32., ...,  36.,   0.],\n",
       "        [ 20.,   0., ...,  40.,  16.]]])\n",
       "Coordinates:\n",
       "  * n        (n) int64 13 14 15 16 17 18 19 20 21 22 23 24 25\n",
       "  * x_pix    (x_pix) int64 0 1 2 3 4 5 6 7 8 9 10 11 12 13 14 15 16 17 18 19 ...\n",
       "  * y_pix    (y_pix) int64 0 1 2 3 4 5 6 7 8 9 10 11 12 13 14 15 16 17 18 19 ..."
      ]
     },
     "execution_count": 18,
     "metadata": {},
     "output_type": "execute_result"
    }
   ],
   "source": [
    "movie.data"
   ]
  },
  {
   "cell_type": "markdown",
   "metadata": {},
   "source": [
    "The raw (unenhanced) data can accessed with `.raw_data`"
   ]
  },
  {
   "cell_type": "code",
   "execution_count": 19,
   "metadata": {},
   "outputs": [
    {
     "data": {
      "text/plain": [
       "<xarray.DataArray 'pix_intensity' (n: 13, x_pix: 160, y_pix: 256)>\n",
       "array([[[ 428.,  492., ...,   44.,   12.],\n",
       "        [ 476.,  580., ...,    8.,   20.],\n",
       "        ..., \n",
       "        [  28.,   64., ...,   24.,    0.],\n",
       "        [  76.,   80., ...,   24.,    8.]],\n",
       "\n",
       "       [[ 440.,  476., ...,   20.,   24.],\n",
       "        [ 452.,  496., ...,   40.,   28.],\n",
       "        ..., \n",
       "        [  64.,   92., ...,    0.,    0.],\n",
       "        [  88.,   96., ...,   24.,    4.]],\n",
       "\n",
       "       ..., \n",
       "       [[ 440.,  428., ...,   24.,   40.],\n",
       "        [ 424.,  504., ...,    8.,    8.],\n",
       "        ..., \n",
       "        [  44.,   44., ...,    4.,    0.],\n",
       "        [  96.,   88., ...,   56.,   28.]],\n",
       "\n",
       "       [[ 452.,  404., ...,    8.,   20.],\n",
       "        [ 404.,  480., ...,   24.,   44.],\n",
       "        ..., \n",
       "        [  24.,   76., ...,   40.,    0.],\n",
       "        [  80.,   44., ...,   48.,   20.]]])\n",
       "Coordinates:\n",
       "  * n        (n) int64 13 14 15 16 17 18 19 20 21 22 23 24 25\n",
       "  * x_pix    (x_pix) int64 0 1 2 3 4 5 6 7 8 9 10 11 12 13 14 15 16 17 18 19 ...\n",
       "  * y_pix    (y_pix) int64 0 1 2 3 4 5 6 7 8 9 10 11 12 13 14 15 16 17 18 19 ..."
      ]
     },
     "execution_count": 19,
     "metadata": {},
     "output_type": "execute_result"
    }
   ],
   "source": [
    "movie.raw_data"
   ]
  },
  {
   "cell_type": "markdown",
   "metadata": {},
   "source": [
    "## Misc\n",
    "Some other useful movie attributes include (Yes _underscores aren't consistent yet!):"
   ]
  },
  {
   "cell_type": "code",
   "execution_count": 20,
   "metadata": {},
   "outputs": [
    {
     "name": "stdout",
     "output_type": "stream",
     "text": [
      "Number of frames: 13\n",
      "\n",
      "Frame numbers: [13 14 15 16 17 18 19 20 21 22 23 24 25]\n",
      "\n",
      "Frame times: [ 0.10014  0.10015  0.10016  0.10017  0.10018  0.10019  0.1002   0.10021\n",
      "  0.10022  0.10023  0.10024  0.10025  0.10026]\n",
      "\n",
      "Frame ramge: {'frame_range': array([13, 25]), 'n': 13, 'stride': 1, 'frames': array([13, 14, 15, 16, 17, 18, 19, 20, 21, 22, 23, 24, 25]), 't_range': array([ 0.10014,  0.10026]), 't': array([ 0.10014,  0.10015,  0.10016,  0.10017,  0.10018,  0.10019,\n",
      "        0.1002 ,  0.10021,  0.10022,  0.10023,  0.10024,  0.10025,  0.10026])}\n",
      "\n",
      "Movie file path (for fist frame/file): /home/tfarley/OneDrive/10-Data/fast_camera_data/MAST/SA1/29852/C001H001S0001/C001H001S0001-00.mraw\n",
      "\n",
      "Movie header meta data (reduced):\n",
      "{'format': '.mraw', 'movie_format': '.mraw', 'frame0': 20000, 'frame_range': [0, 27000], 't_range': [0.10001, 0.37002999999999997], 'frame_shape': (160, 256), 'fps': 100000}\n"
     ]
    }
   ],
   "source": [
    "print('Number of frames: {}\\n'.format(movie.nframes))\n",
    "print('Frame numbers: {}\\n'.format(movie.frame_numbers))\n",
    "print('Frame times: {}\\n'.format(movie.frame_times))\n",
    "print('Frame ramge: {}\\n'.format(movie._frame_range))\n",
    "print('Movie file path (for fist frame/file): {}\\n'.format(movie.fn_path_0))\n",
    "\n",
    "movie_meta = movie._movie_meta\n",
    "movie_meta.pop('mraw_header')\n",
    "mraw_meta = movie_meta['mraw_files']\n",
    "movie_meta.pop('mraw_files')\n",
    "print('Movie header meta data (reduced):\\n{}'.format(movie_meta))"
   ]
  },
  {
   "cell_type": "markdown",
   "metadata": {},
   "source": [
    "Hopefully you now know enough to start using the movie class! More functinality coming soon!"
   ]
  }
 ],
 "metadata": {
  "kernelspec": {
   "display_name": "Python 3",
   "language": "python",
   "name": "python3"
  },
  "language_info": {
   "codemirror_mode": {
    "name": "ipython",
    "version": 3
   },
   "file_extension": ".py",
   "mimetype": "text/x-python",
   "name": "python",
   "nbconvert_exporter": "python",
   "pygments_lexer": "ipython3",
   "version": "3.6.4"
  }
 },
 "nbformat": 4,
 "nbformat_minor": 2
}
